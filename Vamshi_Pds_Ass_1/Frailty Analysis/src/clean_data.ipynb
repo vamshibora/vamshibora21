{
 "cells": [
  {
   "cell_type": "code",
   "execution_count": 8,
   "id": "f104c330",
   "metadata": {},
   "outputs": [],
   "source": [
    "import pandas as pd\n"
   ]
  },
  {
   "cell_type": "code",
   "execution_count": 9,
   "id": "f626f703",
   "metadata": {},
   "outputs": [],
   "source": [
    "#loading raw data for analysis"
   ]
  },
  {
   "cell_type": "code",
   "execution_count": 10,
   "id": "8c20100c",
   "metadata": {},
   "outputs": [
    {
     "name": "stdout",
     "output_type": "stream",
     "text": [
      "  Height Weight  Age Grip Strength Frailty\n",
      "0  65.8    112   30            30       N \n",
      "1  71.5    136   19            31       N \n",
      "2  69.4    153   45            29       N \n",
      "3  68.2    142   22            28       Y \n",
      "4  67.8    144   29            24       Y \n",
      "5  68.7    123   50            26       N \n",
      "6  69.8    141   51            22       Y \n",
      "7  70.1    136   23            20       Y \n",
      "8  67.9    112   17            19       N \n",
      "9  66.8    120   39            31       N \n"
     ]
    }
   ],
   "source": [
    "df = pd.read_csv(\"../data_clean/Book1.csv\")\n",
    "\n",
    "print(df.to_string())\n",
    "\n"
   ]
  },
  {
   "cell_type": "code",
   "execution_count": 11,
   "id": "872998ec",
   "metadata": {},
   "outputs": [],
   "source": [
    "#checking for null values"
   ]
  },
  {
   "cell_type": "code",
   "execution_count": 12,
   "id": "3618de1d",
   "metadata": {},
   "outputs": [
    {
     "data": {
      "text/plain": [
       "Height           0\n",
       "Weight           0\n",
       "Age              0\n",
       "Grip Strength    0\n",
       "Frailty          0\n",
       "dtype: int64"
      ]
     },
     "execution_count": 12,
     "metadata": {},
     "output_type": "execute_result"
    }
   ],
   "source": [
    "df.isnull().sum()"
   ]
  },
  {
   "cell_type": "code",
   "execution_count": 13,
   "id": "aed09618",
   "metadata": {},
   "outputs": [],
   "source": [
    "\n",
    "# Storing cleaned data to data_clean folder"
   ]
  },
  {
   "cell_type": "code",
   "execution_count": 14,
   "id": "4b7ee5e7",
   "metadata": {},
   "outputs": [],
   "source": [
    "df.to_csv(\"Book1.csv\")"
   ]
  },
  {
   "cell_type": "code",
   "execution_count": null,
   "id": "a51e9d07",
   "metadata": {},
   "outputs": [],
   "source": []
  }
 ],
 "metadata": {
  "kernelspec": {
   "display_name": "Python 3 (ipykernel)",
   "language": "python",
   "name": "python3"
  },
  "language_info": {
   "codemirror_mode": {
    "name": "ipython",
    "version": 3
   },
   "file_extension": ".py",
   "mimetype": "text/x-python",
   "name": "python",
   "nbconvert_exporter": "python",
   "pygments_lexer": "ipython3",
   "version": "3.11.5"
  }
 },
 "nbformat": 4,
 "nbformat_minor": 5
}
